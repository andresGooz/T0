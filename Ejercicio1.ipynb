{
 "cells": [
  {
   "cell_type": "markdown",
   "metadata": {},
   "source": [
    "## 2. Job Salary Prediction"
   ]
  },
  {
   "cell_type": "markdown",
   "metadata": {},
   "source": [
    "#### importando librerías"
   ]
  },
  {
   "cell_type": "code",
   "execution_count": 34,
   "metadata": {},
   "outputs": [],
   "source": [
    "import pandas\n",
    "from sklearn.feature_extraction import DictVectorizer\n",
    "from sklearn.feature_extraction.text import CountVectorizer\n",
    "from nltk.corpus import stopwords\n",
    "from scipy.sparse import hstack\n",
    "from sklearn.linear_model import LinearRegression\n",
    "from nltk.stem.snowball import SnowballStemmer\n",
    "from nltk.stem.lancaster import LancasterStemmer\n",
    "import pandas"
   ]
  },
  {
   "cell_type": "markdown",
   "metadata": {},
   "source": [
    "#### cargando los datos desde el data set Train_rev1.csv"
   ]
  },
  {
   "cell_type": "code",
   "execution_count": 35,
   "metadata": {},
   "outputs": [
    {
     "name": "stdout",
     "output_type": "stream",
     "text": [
      "cantidad de datos del dataset: \n"
     ]
    },
    {
     "data": {
      "text/html": [
       "<div>\n",
       "<style scoped>\n",
       "    .dataframe tbody tr th:only-of-type {\n",
       "        vertical-align: middle;\n",
       "    }\n",
       "\n",
       "    .dataframe tbody tr th {\n",
       "        vertical-align: top;\n",
       "    }\n",
       "\n",
       "    .dataframe thead th {\n",
       "        text-align: right;\n",
       "    }\n",
       "</style>\n",
       "<table border=\"1\" class=\"dataframe\">\n",
       "  <thead>\n",
       "    <tr style=\"text-align: right;\">\n",
       "      <th></th>\n",
       "      <th>Id</th>\n",
       "      <th>Title</th>\n",
       "      <th>FullDescription</th>\n",
       "      <th>LocationRaw</th>\n",
       "      <th>LocationNormalized</th>\n",
       "      <th>ContractType</th>\n",
       "      <th>ContractTime</th>\n",
       "      <th>Company</th>\n",
       "      <th>Category</th>\n",
       "      <th>SalaryRaw</th>\n",
       "      <th>SalaryNormalized</th>\n",
       "      <th>SourceName</th>\n",
       "    </tr>\n",
       "  </thead>\n",
       "  <tbody>\n",
       "    <tr>\n",
       "      <th>0</th>\n",
       "      <td>12612628</td>\n",
       "      <td>Engineering Systems Analyst</td>\n",
       "      <td>Engineering Systems Analyst Dorking Surrey Sal...</td>\n",
       "      <td>Dorking, Surrey, Surrey</td>\n",
       "      <td>Dorking</td>\n",
       "      <td>NaN</td>\n",
       "      <td>permanent</td>\n",
       "      <td>Gregory Martin International</td>\n",
       "      <td>Engineering Jobs</td>\n",
       "      <td>20000 - 30000/annum 20-30K</td>\n",
       "      <td>25000</td>\n",
       "      <td>cv-library.co.uk</td>\n",
       "    </tr>\n",
       "    <tr>\n",
       "      <th>1</th>\n",
       "      <td>12612830</td>\n",
       "      <td>Stress Engineer Glasgow</td>\n",
       "      <td>Stress Engineer Glasgow Salary **** to **** We...</td>\n",
       "      <td>Glasgow, Scotland, Scotland</td>\n",
       "      <td>Glasgow</td>\n",
       "      <td>NaN</td>\n",
       "      <td>permanent</td>\n",
       "      <td>Gregory Martin International</td>\n",
       "      <td>Engineering Jobs</td>\n",
       "      <td>25000 - 35000/annum 25-35K</td>\n",
       "      <td>30000</td>\n",
       "      <td>cv-library.co.uk</td>\n",
       "    </tr>\n",
       "  </tbody>\n",
       "</table>\n",
       "</div>"
      ],
      "text/plain": [
       "         Id                        Title  \\\n",
       "0  12612628  Engineering Systems Analyst   \n",
       "1  12612830      Stress Engineer Glasgow   \n",
       "\n",
       "                                     FullDescription  \\\n",
       "0  Engineering Systems Analyst Dorking Surrey Sal...   \n",
       "1  Stress Engineer Glasgow Salary **** to **** We...   \n",
       "\n",
       "                   LocationRaw LocationNormalized ContractType ContractTime  \\\n",
       "0      Dorking, Surrey, Surrey            Dorking          NaN    permanent   \n",
       "1  Glasgow, Scotland, Scotland            Glasgow          NaN    permanent   \n",
       "\n",
       "                        Company          Category                   SalaryRaw  \\\n",
       "0  Gregory Martin International  Engineering Jobs  20000 - 30000/annum 20-30K   \n",
       "1  Gregory Martin International  Engineering Jobs  25000 - 35000/annum 25-35K   \n",
       "\n",
       "   SalaryNormalized        SourceName  \n",
       "0             25000  cv-library.co.uk  \n",
       "1             30000  cv-library.co.uk  "
      ]
     },
     "execution_count": 35,
     "metadata": {},
     "output_type": "execute_result"
    }
   ],
   "source": [
    "df = pandas.read_csv('Train_rev1.csv')\n",
    "print \"cantidad de datos del dataset: \"+str(df.shape)\n",
    "#sin embargo ya que nuestros computadores no son tan potentes usaremos solo 11000 datos\n",
    "df = df.iloc[:11000]\n",
    "df.head(2)"
   ]
  },
  {
   "cell_type": "code",
   "execution_count": 36,
   "metadata": {},
   "outputs": [
    {
     "data": {
      "text/plain": [
       "<matplotlib.axes._subplots.AxesSubplot at 0x7f6d69cc4a10>"
      ]
     },
     "execution_count": 36,
     "metadata": {},
     "output_type": "execute_result"
    },
    {
     "data": {
      "image/png": "[encoded data removed]",
      "text/plain": [
       "<Figure size 432x288 with 1 Axes>"
      ]
     },
     "metadata": {},
     "output_type": "display_data"
    }
   ],
   "source": [
    "import seaborn as sns\n",
    "%matplotlib inline\n",
    "sns.countplot(x= \"SourceName\",data=df)"
   ]
  },
  {
   "cell_type": "code",
   "execution_count": 37,
   "metadata": {},
   "outputs": [
    {
     "data": {
      "text/html": [
       "<div>\n",
       "<style scoped>\n",
       "    .dataframe tbody tr th:only-of-type {\n",
       "        vertical-align: middle;\n",
       "    }\n",
       "\n",
       "    .dataframe tbody tr th {\n",
       "        vertical-align: top;\n",
       "    }\n",
       "\n",
       "    .dataframe thead th {\n",
       "        text-align: right;\n",
       "    }\n",
       "</style>\n",
       "<table border=\"1\" class=\"dataframe\">\n",
       "  <thead>\n",
       "    <tr style=\"text-align: right;\">\n",
       "      <th></th>\n",
       "      <th>Title</th>\n",
       "      <th>FullDescription</th>\n",
       "      <th>LocationNormalized</th>\n",
       "      <th>ContractType</th>\n",
       "      <th>ContractTime</th>\n",
       "      <th>Company</th>\n",
       "      <th>Category</th>\n",
       "      <th>SalaryNormalized</th>\n",
       "    </tr>\n",
       "  </thead>\n",
       "  <tbody>\n",
       "    <tr>\n",
       "      <th>0</th>\n",
       "      <td>Engineering Systems Analyst</td>\n",
       "      <td>Engineering Systems Analyst Dorking Surrey Sal...</td>\n",
       "      <td>Dorking</td>\n",
       "      <td>NaN</td>\n",
       "      <td>permanent</td>\n",
       "      <td>Gregory Martin International</td>\n",
       "      <td>Engineering Jobs</td>\n",
       "      <td>25000</td>\n",
       "    </tr>\n",
       "    <tr>\n",
       "      <th>1</th>\n",
       "      <td>Stress Engineer Glasgow</td>\n",
       "      <td>Stress Engineer Glasgow Salary **** to **** We...</td>\n",
       "      <td>Glasgow</td>\n",
       "      <td>NaN</td>\n",
       "      <td>permanent</td>\n",
       "      <td>Gregory Martin International</td>\n",
       "      <td>Engineering Jobs</td>\n",
       "      <td>30000</td>\n",
       "    </tr>\n",
       "  </tbody>\n",
       "</table>\n",
       "</div>"
      ],
      "text/plain": [
       "                         Title  \\\n",
       "0  Engineering Systems Analyst   \n",
       "1      Stress Engineer Glasgow   \n",
       "\n",
       "                                     FullDescription LocationNormalized  \\\n",
       "0  Engineering Systems Analyst Dorking Surrey Sal...            Dorking   \n",
       "1  Stress Engineer Glasgow Salary **** to **** We...            Glasgow   \n",
       "\n",
       "  ContractType ContractTime                       Company          Category  \\\n",
       "0          NaN    permanent  Gregory Martin International  Engineering Jobs   \n",
       "1          NaN    permanent  Gregory Martin International  Engineering Jobs   \n",
       "\n",
       "   SalaryNormalized  \n",
       "0             25000  \n",
       "1             30000  "
      ]
     },
     "execution_count": 37,
     "metadata": {},
     "output_type": "execute_result"
    }
   ],
   "source": [
    "#quitamos los datos que no aportan información adicional\n",
    "#La variable Id no nos entrega ninguna información útil, por lo que no se analizara.\n",
    "#En el caso del texto bruto de la locación se puede ver que se logra ver la diferencia de los lugares, \n",
    "#pero en la locación normalizada se puede apreciar de mejor manera la distribución que tienen los trabajos \n",
    "#en diferentes ciudades.\n",
    "#El salario bruto no esta para nada estandarizado, por lo cual se compara sueldos por año con sueldos por hora, \n",
    "#por lo cual no sirve de mucho esta variable, pero por otro lado el salario normalizado se pueden comparar \n",
    "#facilmente entre ellos, por lo cual se usara este para comprobar nuestros resultados.\n",
    "#Por último la fuente tiene su densidad reparitda entre algunas paginas web que son las principales. \n",
    "#Esta variable no entrega mucha información, debído a que las páginas simplemente ofrecen trabajos, \n",
    "#sin discriminar por sueldo.\n",
    "df=df.drop(columns=['Id', 'LocationRaw','SalaryRaw','SourceName'])\n",
    "df.head(2)"
   ]
  },
  {
   "cell_type": "code",
   "execution_count": 38,
   "metadata": {},
   "outputs": [
    {
     "name": "stdout",
     "output_type": "stream",
     "text": [
      "df.ContractType\n",
      "full_time    3279\n",
      "part_time     602\n",
      "Name: ContractType, dtype: int64\n",
      "\n",
      "df.ContractTime\n",
      "permanent    4683\n",
      "contract      726\n",
      "Name: ContractTime, dtype: int64\n",
      "\n",
      "df.LocationNormalized:\n",
      "UK                     1429\n",
      "London                 1022\n",
      "Manchester              303\n",
      "Leeds                   251\n",
      "Belfast                 251\n",
      "The City                176\n",
      "Birmingham              147\n",
      "Surrey                  143\n",
      "Sheffield               121\n",
      "South East London       114\n",
      "Hampshire               114\n",
      "Bristol                 104\n",
      "West Midlands            96\n",
      "Liverpool                84\n",
      "Berkshire                83\n",
      "Hertfordshire            81\n",
      "Cambridge                76\n",
      "Bradford                 76\n",
      "Nottingham               75\n",
      "Newcastle Upon Tyne      74\n",
      "Cheshire                 72\n",
      "Lancashire               67\n",
      "Leicester                64\n",
      "West Yorkshire           64\n",
      "Reading                  63\n",
      "Essex                    61\n",
      "Oxfordshire              60\n",
      "Wales                    60\n",
      "Glasgow                  59\n",
      "Southampton              58\n",
      "                       ... \n",
      "Heanor                    1\n",
      "Stonesfield               1\n",
      "Colnbrook                 1\n",
      "Aldringham                1\n",
      "Wadhurst                  1\n",
      "Ash Green                 1\n",
      "Stone                     1\n",
      "Shotts                    1\n",
      "Tetbury                   1\n",
      "Holyport                  1\n",
      "Pentre                    1\n",
      "Edwalton                  1\n",
      "Yarnton                   1\n",
      "Penicuik                  1\n",
      "Retford                   1\n",
      "Liversedge                1\n",
      "Culham                    1\n",
      "Needham Market            1\n",
      "Tooting                   1\n",
      "Sutton Coldfield          1\n",
      "North Warnborough         1\n",
      "Cardigan                  1\n",
      "Kingswood                 1\n",
      "Blandford Forum           1\n",
      "Byfleet                   1\n",
      "Prenton                   1\n",
      "Ampthill                  1\n",
      "Newton Mearns             1\n",
      "Bar Hill                  1\n",
      "Brackley                  1\n",
      "Name: LocationNormalized, Length: 940, dtype: int64\n",
      "\n",
      "df.Company:\n",
      "JOBG8                                       454\n",
      "Fresh Partnership                           264\n",
      "ARRAY                                       226\n",
      "Chef Results                                131\n",
      "Clear Selection                             128\n",
      "Triumph Consultants                         104\n",
      "JHR                                          75\n",
      "Castle Recruitment                           74\n",
      "The Works Uk Ltd                             73\n",
      "W5 Recruitment                               65\n",
      "Recruitment North West                       62\n",
      "ACS Recruitment Consultants Ltd              61\n",
      "mgi recruitment                              60\n",
      "Red Dot Recruitment                          56\n",
      "EMPLOYMENT SPECIALISTS LTD                   53\n",
      "Questech Recruitment Ltd                     51\n",
      "Petrie Recruitment                           49\n",
      "Matchtech Group plc.                         48\n",
      "Albior Financial Recruitment                 48\n",
      "Switch Recruitment Services Ltd              42\n",
      "OCC Computer Personnel/RI                    42\n",
      "Towngate Personnel                           41\n",
      "Excel Technical Resourcing Solutions Ltd     40\n",
      "Future Select                                39\n",
      "MBN Recruitment                              38\n",
      "Industrial Personnel Ltd                     37\n",
      "Gregory Martin International                 37\n",
      "Hays Specialist Recruitment                  36\n",
      "Domus Recruitment                            35\n",
      "Recruitment Direct                           34\n",
      "                                           ... \n",
      "William Scott Associates                      1\n",
      "Prohealth Recruitment Limited                 1\n",
      "Richmond Group                                1\n",
      "Harvey Nash IT Recruitment UK                 1\n",
      "Martin McColl                                 1\n",
      "Antal International Limited   Warrington      1\n",
      "The MAC                                       1\n",
      "Be Wiser Insurance                            1\n",
      "Career Legal                                  1\n",
      "Portfolio                                     1\n",
      "University Of Leeds                           1\n",
      "Pro Tax                                       1\n",
      "Churchill Recruitment                         1\n",
      "Top Care                                      1\n",
      "BT Local Business   Newcastle                 1\n",
      "Stack Exchange                                1\n",
      "MJM Cleaning and Maintenance Ltd              1\n",
      "Cotswold Catering Services Ltd                1\n",
      "Astrum HR Search Selection                    1\n",
      "ninesharp                                     1\n",
      "Peritus Green                                 1\n",
      "Graham Rose                                   1\n",
      "Conrad Knight Associates                      1\n",
      "R21 Media                                     1\n",
      "ACS                                           1\n",
      "Action Technical Services                     1\n",
      "Cofely GDF Suez                               1\n",
      "McGinley Human Resources                      1\n",
      "Truphone                                      1\n",
      "Austin Andrew                                 1\n",
      "Name: Company, Length: 1369, dtype: int64\n",
      "\n",
      "df.Category:\n",
      "Healthcare & Nursing Jobs           3363\n",
      "IT Jobs                             1747\n",
      "Engineering Jobs                    1245\n",
      "Accounting & Finance Jobs            673\n",
      "HR & Recruitment Jobs                592\n",
      "Hospitality & Catering Jobs          567\n",
      "Sales Jobs                           453\n",
      "Teaching Jobs                        376\n",
      "Customer Services Jobs               271\n",
      "Other/General Jobs                   250\n",
      "Trade & Construction Jobs            162\n",
      "Admin Jobs                           162\n",
      "Scientific & QA Jobs                 138\n",
      "Travel Jobs                          123\n",
      "Logistics & Warehouse Jobs           121\n",
      "Manufacturing Jobs                   115\n",
      "Retail Jobs                          102\n",
      "PR, Advertising & Marketing Jobs      93\n",
      "Legal Jobs                            92\n",
      "Consultancy Jobs                      85\n",
      "Social work Jobs                      57\n",
      "Charity & Voluntary Jobs              52\n",
      "Property Jobs                         52\n",
      "Energy, Oil & Gas Jobs                34\n",
      "Creative & Design Jobs                23\n",
      "Maintenance Jobs                      22\n",
      "Graduate Jobs                         20\n",
      "Domestic help & Cleaning Jobs         10\n",
      "Name: Category, dtype: int64\n"
     ]
    }
   ],
   "source": [
    "#imprimiendo una breve descripción de los datos de las columnas del dataset que no son textos\n",
    "print (\"df.ContractType\")\n",
    "print (df.ContractType.value_counts())\n",
    "print (\"\")\n",
    "print (\"df.ContractTime\")\n",
    "print (df.ContractTime.value_counts())\n",
    "print (\"\")\n",
    "print (\"df.LocationNormalized:\")\n",
    "print (df.LocationNormalized.value_counts())\n",
    "print (\"\")\n",
    "print (\"df.Company:\")\n",
    "print (df.Company.value_counts())\n",
    "print (\"\")\n",
    "print (\"df.Category:\")\n",
    "print (df.Category.value_counts())"
   ]
  },
  {
   "cell_type": "markdown",
   "metadata": {},
   "source": [
    "#### preparando los datos"
   ]
  },
  {
   "cell_type": "code",
   "execution_count": 39,
   "metadata": {},
   "outputs": [],
   "source": [
    "# reemplazamos todos los valores NaN por un equivalente simbolizado con el string 'nan'\n",
    "df['FullDescription']=df['FullDescription'].fillna('nan')\n",
    "df['LocationNormalized']=df['LocationNormalized'].fillna('nan')\n",
    "df['ContractType']=df['ContractType'].fillna('nan')\n",
    "df['ContractTime']=df['ContractTime'].fillna('nan')\n",
    "df['Company']=df['Company'].fillna('nan')\n",
    "df['Category']=df['Category'].fillna('nan')"
   ]
  },
  {
   "cell_type": "markdown",
   "metadata": {},
   "source": [
    "#### preparando los datos FullDescription aplicando lower(), quitando puntuación, stopwords, aplicando stemmer, y quitando las palabras raras y las más usadas."
   ]
  },
  {
   "cell_type": "code",
   "execution_count": 40,
   "metadata": {},
   "outputs": [],
   "source": [
    "#función remove stopWords\n",
    "cachedStopWords = stopwords.words(\"english\")\n",
    "def stopWords(text):\n",
    "    text = ' '.join([word for word in text.split() if word not in cachedStopWords])\n",
    "    return text\n",
    "\n",
    "#función apply stemmer\n",
    "stemmer = SnowballStemmer(\"english\")\n",
    "def stemmerWords(text):\n",
    "    text = ' '.join([stemmer.stem(word) for word in text.split()])\n",
    "    return text\n",
    "\n",
    "#función lemmetize\n",
    "lancaster_stemmer = LancasterStemmer()\n",
    "def lemmatizeWords(text):\n",
    "    text = ' '.join([lancaster_stemmer.stem(word) for word in text.split()])\n",
    "    return text\n",
    "\n",
    "\n",
    "# transformamos los datos con la función lower()\n",
    "df['FullDescription']=df['FullDescription'].str.lower()\n",
    "\n",
    "# quitamos todos los carácteres que no son ni letras ni números\n",
    "df['FullDescription']=df['FullDescription'].replace('[^a-z0-9]', ' ', regex = True)\n",
    "\n",
    "#quitando stopwords\n",
    "df['FullDescription'] = df['FullDescription'].apply(lambda x: stopWords(x))\n",
    "\n",
    "#Stemmer words \n",
    "df['FullDescription'] = df['FullDescription'].apply(lambda x: stemmerWords(x))\n",
    "\n",
    "#removiendo palabras más comunes\n",
    "freq = list(pandas.Series(' '.join(df['FullDescription']).split()).value_counts()[:100].index)\n",
    "df['FullDescription'] = df['FullDescription'].apply(lambda x: \" \".join(x for x in x.split() if x not in freq))\n",
    "\n",
    "\n",
    "#removiendo palabras raras\n",
    "freq = list(pandas.Series(' '.join(df['FullDescription']).split()).value_counts()[-120:].index)\n",
    "df['FullDescription'] = df['FullDescription'].apply(lambda x: \" \".join(x for x in x.split() if x not in freq))\n"
   ]
  },
  {
   "cell_type": "code",
   "execution_count": 41,
   "metadata": {},
   "outputs": [
    {
     "data": {
      "text/plain": [
       "0    analyst dork surrey k locat dork surrey analys...\n",
       "1    stress glasgow talent grow glasgow varieti sui...\n",
       "Name: FullDescription, dtype: object"
      ]
     },
     "execution_count": 41,
     "metadata": {},
     "output_type": "execute_result"
    }
   ],
   "source": [
    "#mostrando el resultado de la preparación de FullDescription\n",
    "df.FullDescription.head(2)"
   ]
  },
  {
   "cell_type": "markdown",
   "metadata": {},
   "source": [
    "#### representando los datos disponibles"
   ]
  },
  {
   "cell_type": "code",
   "execution_count": 42,
   "metadata": {},
   "outputs": [
    {
     "data": {
      "text/plain": [
       "<matplotlib.axes._subplots.AxesSubplot at 0x7f6d69b8e450>"
      ]
     },
     "execution_count": 42,
     "metadata": {},
     "output_type": "execute_result"
    },
    {
     "data": {
      "image/png": "[encoded data removed]",
      "text/plain": [
       "<Figure size 432x288 with 1 Axes>"
      ]
     },
     "metadata": {},
     "output_type": "display_data"
    }
   ],
   "source": [
    "\n",
    "%matplotlib inline\n",
    "sns.countplot(x= \"LocationNormalized\",data=df)\n",
    "\n",
    "#La compañia es una variable que tiene bastante variedad, \n",
    "#pero se puede ver que algunas empresas sobresalen con su cantidad de ofertas laborales, \n",
    "#esto se puede reforsar con el gráfico."
   ]
  },
  {
   "cell_type": "code",
   "execution_count": 43,
   "metadata": {},
   "outputs": [
    {
     "data": {
      "text/plain": [
       "<matplotlib.axes._subplots.AxesSubplot at 0x7f6d5b4fb590>"
      ]
     },
     "execution_count": 43,
     "metadata": {},
     "output_type": "execute_result"
    },
    {
     "data": {
      "image/png": "[encoded data removed]",
      "text/plain": [
       "<Figure size 432x288 with 1 Axes>"
      ]
     },
     "metadata": {},
     "output_type": "display_data"
    }
   ],
   "source": [
    "import seaborn as sns\n",
    "%matplotlib inline\n",
    "sns.countplot(x= \"ContractType\",data=df)\n",
    "\n",
    "\n",
    "#En el caso de del tipo de contrato, podemos ver que solo un pequeño porcentaje tiene alguna categoría asignada. \n",
    "#En orden de proporción las estradas que mas abundan son categorías no asignadas."
   ]
  },
  {
   "cell_type": "code",
   "execution_count": 44,
   "metadata": {},
   "outputs": [
    {
     "data": {
      "text/plain": [
       "<matplotlib.axes._subplots.AxesSubplot at 0x7f6d5d1733d0>"
      ]
     },
     "execution_count": 44,
     "metadata": {},
     "output_type": "execute_result"
    },
    {
     "data": {
      "image/png": "[encoded data removed]",
      "text/plain": [
       "<Figure size 432x288 with 1 Axes>"
      ]
     },
     "metadata": {},
     "output_type": "display_data"
    }
   ],
   "source": [
    "import seaborn as sns\n",
    "%matplotlib inline\n",
    "sns.countplot(x= \"ContractTime\",data=df)\n",
    "\n",
    "#Para la variable tiempo de contrato sucede algo parecido a la variable anterior"
   ]
  },
  {
   "cell_type": "code",
   "execution_count": 45,
   "metadata": {},
   "outputs": [],
   "source": [
    "# import seaborn as sns\n",
    "# %matplotlib inline\n",
    "# sns.countplot(x= u\"Company\",data=df)"
   ]
  },
  {
   "cell_type": "code",
   "execution_count": 46,
   "metadata": {},
   "outputs": [
    {
     "data": {
      "text/plain": [
       "<matplotlib.axes._subplots.AxesSubplot at 0x7f6d5f3bcc90>"
      ]
     },
     "execution_count": 46,
     "metadata": {},
     "output_type": "execute_result"
    },
    {
     "data": {
      "image/png": "[encoded data removed]",
      "text/plain": [
       "<Figure size 432x288 with 1 Axes>"
      ]
     },
     "metadata": {},
     "output_type": "display_data"
    }
   ],
   "source": [
    "import seaborn as sns\n",
    "%matplotlib inline\n",
    "sns.countplot(x= \"Category\",data=df)\n",
    "#se aprecian claramente 28 categorías de trabajos bien definidas y distintas en proporción entre si"
   ]
  },
  {
   "cell_type": "markdown",
   "metadata": {},
   "source": [
    "#### dividiendo los datos de entrenamiento y prueba"
   ]
  },
  {
   "cell_type": "code",
   "execution_count": 47,
   "metadata": {},
   "outputs": [],
   "source": [
    "import numpy as np\n",
    "msk = np.random.rand(len(df)) < 0.95\n",
    "train = df[msk]\n",
    "val = df[~msk]\n"
   ]
  },
  {
   "cell_type": "markdown",
   "metadata": {},
   "source": [
    "#### creamos las matrices de features de FullDescription usando CountVectorizer"
   ]
  },
  {
   "cell_type": "code",
   "execution_count": 48,
   "metadata": {},
   "outputs": [],
   "source": [
    "# vectorizer = CountVectorizer()\n",
    "vectorizer = CountVectorizer(ngram_range=(1, 2),min_df=2,binary='False')\n",
    "vectorizer.fit(train['FullDescription'])\n",
    "#obtenemos las matrices de features utilizando la función vector anterior\n",
    "X_tfidf = vectorizer.transform(train['FullDescription'])\n",
    "X_vfidf = vectorizer.transform(val['FullDescription']) \n"
   ]
  },
  {
   "cell_type": "markdown",
   "metadata": {},
   "source": [
    "#### creamos las matrices de features de LocationNormalized y ContractTime a partir de un vector definido con los datos de entrenamiento"
   ]
  },
  {
   "cell_type": "code",
   "execution_count": 49,
   "metadata": {},
   "outputs": [],
   "source": [
    "enc = DictVectorizer()\n",
    "enc.fit(train[['Category']].to_dict('records'))\n",
    "X_train_categ = enc.transform(train[['Category']].to_dict('records'))\n",
    "X_val_categ = enc.transform(val[['Category']].to_dict('records'))\n",
    "# [***]\n",
    "#Los vectores obtenidos no fueron usados pues no fué posible mejorar el modelo con ellos.\n"
   ]
  },
  {
   "cell_type": "markdown",
   "metadata": {},
   "source": [
    "#### definimos los inputs X de entrenamiento e Y de validación usando las matrices de features (FullDescription) y (LocationNormalized + ContractTime)"
   ]
  },
  {
   "cell_type": "code",
   "execution_count": 50,
   "metadata": {},
   "outputs": [],
   "source": [
    "y = train['SalaryNormalized']\n",
    "yval = val['SalaryNormalized']\n",
    "\n",
    "X = hstack([X_tfidf])\n",
    "Xval = hstack([X_vfidf])\n",
    "\n",
    "\n",
    "# [***]\n",
    "#Los vectores obtenidos no fueron usados pues no fué posible mejorar el modelo con ellos.\n",
    "# X = hstack([X_tfidf,X_train_categ])\n",
    "# Xval = hstack([X_vfidf,X_val_categ])"
   ]
  },
  {
   "cell_type": "markdown",
   "metadata": {},
   "source": [
    "#### Definiendo y entrenando el modelo"
   ]
  },
  {
   "cell_type": "code",
   "execution_count": 51,
   "metadata": {},
   "outputs": [
    {
     "data": {
      "text/plain": [
       "LinearRegression(copy_X=True, fit_intercept=True, n_jobs=1, normalize=False)"
      ]
     },
     "execution_count": 51,
     "metadata": {},
     "output_type": "execute_result"
    }
   ],
   "source": [
    "# Modelo de regresión lineal: \n",
    "model = LinearRegression(fit_intercept=True, normalize=False)\n",
    "#fit_intercept = False establece el intercepto y en 0. Si fit_intercept = Verdadero, \n",
    "#el intercepto y será determinado por la línea de mejor ajuste.\n",
    "\n",
    "# Entrenamos el modelo \n",
    "model.fit(X, y) "
   ]
  },
  {
   "cell_type": "markdown",
   "metadata": {},
   "source": [
    "#### Probando los resultados"
   ]
  },
  {
   "cell_type": "code",
   "execution_count": 52,
   "metadata": {},
   "outputs": [
    {
     "name": "stdout",
     "output_type": "stream",
     "text": [
      "('MAE on train: ', 49.10992722859457)\n",
      "('MAE on val: ', 7471.15625816551)\n"
     ]
    }
   ],
   "source": [
    "from sklearn.metrics import mean_absolute_error #measure MAE\n",
    "print(\"MAE on train: \",mean_absolute_error(y, model.predict(X)))\n",
    "print(\"MAE on val: \",mean_absolute_error(yval, model.predict(Xval)))"
   ]
  },
  {
   "cell_type": "markdown",
   "metadata": {},
   "source": [
    "comentarios:\n",
    "    Una forma de mejorar el modelo fue cambiando los valores del CountVectorizer usado en FullDescription\n",
    "    \n",
    "    CountVectorizer():\n",
    "        ('MAE on train: ', 79.38692730571627)\n",
    "        ('MAE on val: ', 67814.20121468042)\n",
    "    \n",
    "    CountVectorizer(ngram_range=(1, 2),min_df=2,binary='False'):\n",
    "        ('MAE on train: ', 44.450243016694564)\n",
    "        ('MAE on val: ', 8033.962197466592)\n",
    "\n",
    "\n",
    "La idea es buscar patrones significativos del tipo:\n",
    "    ngram_range=(1, 2):\n",
    "        palabra\n",
    "        palabra1 palabra2\n",
    "    min_df=2:\n",
    "        solo palabras o combinaciones de dos palabras que se repitan dos o más veces en los textos\n",
    "el uso del arte negro anterior mejora el modelo de forma considerable.\n",
    "PD: seguimos lejos de la versión ganadora MAE 3400.\n",
    "No se pudo mejorar el modelo agregando combinaciones de variables que previsiblemente mejorarían los resultados\n",
    "por lo que se optó solo con mejorar la calidad del preprocesamiento de los datos FullDescription\n"
   ]
  },
  {
   "cell_type": "code",
   "execution_count": null,
   "metadata": {},
   "outputs": [],
   "source": []
  },
  {
   "cell_type": "code",
   "execution_count": null,
   "metadata": {},
   "outputs": [],
   "source": []
  },
  {
   "cell_type": "code",
   "execution_count": null,
   "metadata": {},
   "outputs": [],
   "source": []
  },
  {
   "cell_type": "code",
   "execution_count": null,
   "metadata": {},
   "outputs": [],
   "source": []
  },
  {
   "cell_type": "code",
   "execution_count": null,
   "metadata": {},
   "outputs": [],
   "source": []
  },
  {
   "cell_type": "code",
   "execution_count": null,
   "metadata": {},
   "outputs": [],
   "source": []
  },
  {
   "cell_type": "code",
   "execution_count": null,
   "metadata": {},
   "outputs": [],
   "source": []
  },
  {
   "cell_type": "code",
   "execution_count": null,
   "metadata": {},
   "outputs": [],
   "source": []
  },
  {
   "cell_type": "code",
   "execution_count": null,
   "metadata": {},
   "outputs": [],
   "source": []
  }
 ],
 "metadata": {
  "kernelspec": {
   "display_name": "Python 2",
   "language": "python",
   "name": "python2"
  },
  "language_info": {
   "codemirror_mode": {
    "name": "ipython",
    "version": 2
   },
   "file_extension": ".py",
   "mimetype": "text/x-python",
   "name": "python",
   "nbconvert_exporter": "python",
   "pygments_lexer": "ipython2",
   "version": "2.7.15"
  }
 },
 "nbformat": 4,
 "nbformat_minor": 2
}
